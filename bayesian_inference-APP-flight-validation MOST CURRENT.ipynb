{
 "cells": [
  {
   "cell_type": "code",
   "execution_count": 5,
   "metadata": {},
   "outputs": [
    {
     "name": "stdout",
     "output_type": "stream",
     "text": [
      " [-----------------100%-----------------] 500000 of 500000 complete in 167.5 sec"
     ]
    }
   ],
   "source": [
    "import numpy as np\n",
    "import numpy.random as randn\n",
    "import pymc as pm\n",
    "import matplotlib.pyplot as plt\n",
    "\n",
    "#enter variables of the test\n",
    "#http://nbviewer.jupyter.org/github/CamDavidsonPilon/Probabilistic-Programming-and-Bayesian-Methods-for-Hackers/blob/master/Chapter6_Priorities/Ch6_Priors_PyMC3.ipynb\n",
    "#http://stats.stackexchange.com/questions/92752/when-to-terminate-the-bayesian-a-b-test\n",
    "#https://stats.stackexchange.com/questions/165/how-would-you-explain-markov-chain-monte-carlo-mcmc-to-a-layperson\n",
    "\n",
    "visits_A = 7552\n",
    "tours_A = 419\n",
    "visits_B = 7326\n",
    "tours_B = 386\n",
    "\n",
    "data_A = np.r_[[0] * (visits_A - tours_A), [1] * tours_A]\n",
    "data_B = np.r_[[0] * (visits_B - tours_B), [1] * tours_B]\n",
    "\n",
    "# used uniform distribution e.g 1,1 and assumes no knowledge \n",
    "alpha = pm.Uniform('alpha', lower=0, upper=1)\n",
    "beta = pm.Uniform('beta', lower=0, upper=1)\n",
    "\n",
    "\n",
    "@pm.deterministic\n",
    "def delta(alpha=alpha, beta=beta):\n",
    "    return beta - alpha\n",
    "\n",
    "obs_A = pm.Bernoulli (\"obs_A\",alpha, value = data_A, observed = True)\n",
    "obs_B = pm.Bernoulli(\"obs_B\", beta, value = data_B, observed = True)\n",
    "\n",
    "mcmc = pm.MCMC([alpha, beta, delta, obs_A, obs_B])\n",
    "mcmc.sample(500000, 1000)\n"
   ]
  },
  {
   "cell_type": "code",
   "execution_count": 4,
   "metadata": {},
   "outputs": [
    {
     "data": {
      "image/png": "[encoded data removed]",
      "text/plain": [
       "<matplotlib.figure.Figure at 0x192748db5f8>"
      ]
     },
     "metadata": {},
     "output_type": "display_data"
    },
    {
     "data": {
      "image/png": "[encoded data removed]",
      "text/plain": [
       "<matplotlib.figure.Figure at 0x192745d13c8>"
      ]
     },
     "metadata": {},
     "output_type": "display_data"
    },
    {
     "name": "stdout",
     "output_type": "stream",
     "text": [
      "Probability Control is greater than Test: 0.78 \n",
      "Probability Test is Greater than Control: 0.22\n",
      "                        1 percent greater : 0.15\n",
      "                        5 percent greater : 0.02\n",
      "                       10 percent greater : 0.00\n"
     ]
    }
   ],
   "source": [
    "p_A_samples = mcmc.trace(\"alpha\")[:]\n",
    "p_B_samples = mcmc.trace(\"beta\")[:]\n",
    "delta_samples = mcmc.trace(\"delta\")[:]\n",
    "\n",
    "#plt.xlim(0.20, 1000,100)\n",
    "plt.hist(p_A_samples, histtype='stepfilled', bins=150, alpha=0.85,\n",
    "label=\"posterior of $alpha$\", color=\"#d070ad\", normed=True,\n",
    "edgecolor= \"none\")\n",
    "plt.legend(loc=\"upper right\")\n",
    "plt.title(\"Posterior distributions of $alpha$, $beta$, and delta unknowns\")\n",
    "\n",
    "\n",
    "xmin = (tours_B/visits_B)*0.5\n",
    "xmax = (tours_B/visits_B)*1.5\n",
    "\n",
    "plt.xlim(xmin, xmax,1000)\n",
    "plt.hist(p_B_samples, histtype='stepfilled', bins=150, alpha=0.85,\n",
    "        label=\"posterior of $beta$\", color=\"#48c376\", normed=True,\n",
    "        edgecolor = \"none\")\n",
    "plt.legend(loc=\"upper right\")\n",
    "\n",
    "plt.show()\n",
    "\n",
    "# PLOT the blue Chart Alpah - Beta \n",
    "\n",
    "plt.ylim(0,100)\n",
    "plt.hist(delta_samples, histtype='stepfilled', bins=150, alpha=0.85,\n",
    "        label=\"posterior of $beta$ - $alpha$\", color=\"#70ADD0\",normed=True,\n",
    "        edgecolor = \"none\")\n",
    "plt.legend(loc=\"upper right\")\n",
    "plt.legend(bbox_to_anchor=(1.05, 1), loc=2, borderaxespad=0.)\n",
    "plt.vlines(0, 0, 120, color=\"black\", alpha = .5)\n",
    "\n",
    "plt.show()\n",
    "\n",
    "a = (delta_samples < 0.00).mean()\n",
    "b = (delta_samples > 0.00).mean()\n",
    "\n",
    "c = (delta_samples > 0.001).mean()\n",
    "d = (delta_samples > 0.005).mean()\n",
    "e = (delta_samples > 0.01).mean()\n",
    "\n",
    "\n",
    "print(\"Probability Control is greater than Test: %0.2f \" % a)\n",
    "\n",
    "print(\"Probability Test is Greater than Control: %0.2f\" % b)\n",
    "\n",
    "print(\"                        1 percent greater : %0.2f\" % c)\n",
    "\n",
    "print(\"                        5 percent greater : %0.2f\" % d)\n",
    "print(\"                       10 percent greater : %0.2f\" % e)\n",
    "\n"
   ]
  }
 ],
 "metadata": {
  "anaconda-cloud": {},
  "kernelspec": {
   "display_name": "Python 3",
   "language": "python",
   "name": "python3"
  },
  "language_info": {
   "codemirror_mode": {
    "name": "ipython",
    "version": 3
   },
   "file_extension": ".py",
   "mimetype": "text/x-python",
   "name": "python",
   "nbconvert_exporter": "python",
   "pygments_lexer": "ipython3",
   "version": "3.6.1"
  }
 },
 "nbformat": 4,
 "nbformat_minor": 1
}

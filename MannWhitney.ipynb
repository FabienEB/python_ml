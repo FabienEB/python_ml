{
 "cells": [
  {
   "cell_type": "code",
   "execution_count": 58,
   "metadata": {},
   "outputs": [
    {
     "name": "stdout",
     "output_type": "stream",
     "text": [
      "86.62982878878285\n",
      "89.44512775371288\n",
      "MannwhitneyuResult(statistic=5989195.0, pvalue=0.99999864057731414)\n"
     ]
    }
   ],
   "source": [
    "from scipy import stats\n",
    "import pandas as pd \n",
    "import numpy as np\n",
    "\n",
    "df = pd.read_csv('first_class.csv')\n",
    "df.head()\n",
    "\n",
    "y = df['0']\n",
    "x= df['1']\n",
    "sp = scipy.stats.mannwhitneyu(x, y, use_continuity=False, alternative='less')\n",
    "print(y.mean(axis=None))\n",
    "print(x.mean(axis=None))\n",
    "print(sp)\n"
   ]
  }
 ],
 "metadata": {
  "kernelspec": {
   "display_name": "Python 3",
   "language": "python",
   "name": "python3"
  },
  "language_info": {
   "codemirror_mode": {
    "name": "ipython",
    "version": 3
   },
   "file_extension": ".py",
   "mimetype": "text/x-python",
   "name": "python",
   "nbconvert_exporter": "python",
   "pygments_lexer": "ipython3",
   "version": "3.6.1"
  }
 },
 "nbformat": 4,
 "nbformat_minor": 2
}
